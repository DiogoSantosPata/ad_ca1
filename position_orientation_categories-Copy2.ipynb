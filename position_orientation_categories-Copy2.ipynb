{
 "cells": [
  {
   "cell_type": "code",
   "execution_count": 117,
   "metadata": {
    "collapsed": true
   },
   "outputs": [],
   "source": [
    "# %matplotlib inline\n",
    "import matplotlib.pyplot as plt\n",
    "import numpy as np\n",
    "from scipy.signal import butter, filtfilt, freqz"
   ]
  },
  {
   "cell_type": "code",
   "execution_count": 2,
   "metadata": {
    "collapsed": false
   },
   "outputs": [],
   "source": [
    "pos = np.loadtxt('../data/Position_data/PosFiles/Mouse12-120807.txt')"
   ]
  },
  {
   "cell_type": "code",
   "execution_count": 9,
   "metadata": {
    "collapsed": false
   },
   "outputs": [],
   "source": [
    "xx_blue = pos[:,0]\n",
    "yy_blue = pos[:,1]\n",
    "\n",
    "xx_red  = pos[:,2]\n",
    "yy_red  = pos[:,3]\n",
    "\n",
    "wind_b, wind_e = 5698.9 , 7778.8\n",
    "fr = 39.06\n",
    "wind_point_b,wind_point_e = int(wind_b*fr), int(wind_e*fr)"
   ]
  },
  {
   "cell_type": "code",
   "execution_count": 108,
   "metadata": {
    "collapsed": false
   },
   "outputs": [],
   "source": [
    "indx_rb = np.where(  np.logical_or( xx_blue[wind_point_b:wind_point_e] != -1 , xx_red[wind_point_b:wind_point_e] != -1))[0]\n",
    "\n",
    "traj_r = xx_red + 1j * yy_red\n",
    "traj_b = xx_blue + 1j * yy_blue\n",
    "\n",
    "traj_r = traj_r[ indx_rb ]\n",
    "traj_b = traj_b[ indx_rb ]\n",
    "\n",
    "traj_r[ traj_r.real == -1  ] = traj_b[ traj_r.real == -1  ]\n",
    "\n",
    "accel = np.abs(traj_r[:-1:1] - traj_r[1::1] )\n",
    "accel = accel[1:]\n",
    "accel[  accel>2. ] = np.nan\n",
    "\n",
    "plt.plot( accel )\n",
    "plt.show()"
   ]
  },
  {
   "cell_type": "code",
   "execution_count": 116,
   "metadata": {
    "collapsed": false
   },
   "outputs": [
    {
     "name": "stdout",
     "output_type": "stream",
     "text": [
      "[  2.36120355e-59] [ 1. -4.  6. -4.  1.]\n",
      "[ nan  nan  nan ...,  nan  nan  nan]\n"
     ]
    }
   ],
   "source": [
    "N  = 4    # Filter order\n",
    "Wn = 36 # Cutoff frequency\n",
    "\n",
    "B, A = butter(N, Wn, btype='lowpass', output='ba')\n",
    " \n",
    "print B,A\n",
    "# Second, apply the filter\n",
    "tempf = filtfilt(B,A, accel)\n",
    "print tempf"
   ]
  },
  {
   "cell_type": "code",
   "execution_count": 112,
   "metadata": {
    "collapsed": false
   },
   "outputs": [],
   "source": [
    "plt.plot(tempf)\n",
    "plt.show()\n",
    "# np.max(tempf)"
   ]
  },
  {
   "cell_type": "code",
   "execution_count": 151,
   "metadata": {
    "collapsed": true
   },
   "outputs": [],
   "source": [
    "dt, rc = .36 , 1000.\n",
    "alpha = dt/(rc+dt)\n",
    "\n",
    "# y = accel[1:] * alpha + (1-alpha) * accel[:-1]\n",
    "\n",
    "y = [ accel[0]  ]\n",
    "for ii in range(1,len(accel)):\n",
    "    y.append(accel[ii] * alpha + (1-alpha) * y[ii-1])\n",
    "\n",
    "#plt.plot(accel,'b')\n",
    "plt.plot(y,'r')\n",
    "plt.show()"
   ]
  },
  {
   "cell_type": "code",
   "execution_count": null,
   "metadata": {
    "collapsed": true
   },
   "outputs": [],
   "source": []
  }
 ],
 "metadata": {
  "kernelspec": {
   "display_name": "Python 2",
   "language": "python",
   "name": "python2"
  },
  "language_info": {
   "codemirror_mode": {
    "name": "ipython",
    "version": 2
   },
   "file_extension": ".py",
   "mimetype": "text/x-python",
   "name": "python",
   "nbconvert_exporter": "python",
   "pygments_lexer": "ipython2",
   "version": "2.7.6"
  }
 },
 "nbformat": 4,
 "nbformat_minor": 0
}
