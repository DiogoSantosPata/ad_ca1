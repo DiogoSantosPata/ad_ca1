{
 "cells": [
  {
   "cell_type": "code",
   "execution_count": 2,
   "metadata": {
    "collapsed": true
   },
   "outputs": [],
   "source": [
    "# %matplotlib inline\n",
    "import matplotlib.pyplot as plt\n",
    "import numpy as np\n",
    "from scipy.signal import butter, filtfilt, freqz\n",
    "from scipy.signal import argrelextrema"
   ]
  },
  {
   "cell_type": "code",
   "execution_count": 10,
   "metadata": {
    "collapsed": false
   },
   "outputs": [],
   "source": [
    "pos = np.loadtxt('../data/Position_data/PosFiles/Mouse12-120807.txt')\n",
    "# pos = np.loadtxt('../data/Position_data/PosFiles/Mouse12-120810.txt')\n",
    "# pos = np.loadtxt('../data/Position_data/PosFiles/Mouse17-130202.txt')"
   ]
  },
  {
   "cell_type": "code",
   "execution_count": 11,
   "metadata": {
    "collapsed": false
   },
   "outputs": [],
   "source": [
    "xx_blue = pos[:,0]\n",
    "yy_blue = pos[:,1]\n",
    "\n",
    "wind_b, wind_e = 5698.9,7778.8\n",
    "fr = 39.06\n",
    "wind_point_b,wind_point_e = int(wind_b*fr), int(wind_e*fr)"
   ]
  },
  {
   "cell_type": "code",
   "execution_count": 12,
   "metadata": {
    "collapsed": false
   },
   "outputs": [],
   "source": [
    "traj_b = xx_blue + 1j * yy_blue\n",
    "traj_b[xx_blue==-1] = np.nan\n",
    "\n",
    "traj_b = traj_b[wind_point_b:wind_point_e]\n",
    "\n",
    "accel = np.abs(traj_b[:-1:1] - traj_b[1::1] )\n",
    "accel = accel[1:]\n",
    "\n",
    "plt.plot( accel )\n",
    "plt.show()"
   ]
  },
  {
   "cell_type": "code",
   "execution_count": 13,
   "metadata": {
    "collapsed": true
   },
   "outputs": [],
   "source": [
    "def savitzky_golay(y, window_size, order, deriv=0):\n",
    "    try:\n",
    "        window_size = np.abs(np.int(window_size))\n",
    "        order = np.abs(np.int(order))\n",
    "    except ValueError, msg:\n",
    "        raise ValueError(\"window_size and order have to be of type int\")\n",
    "    if window_size % 2 != 1 or window_size < 1:\n",
    "        raise TypeError(\"window_size size must be a positive odd number\")\n",
    "    if window_size < order + 2:\n",
    "        raise TypeError(\"window_size is too small for the polynomials order\")\n",
    "    order_range = range(order+1)\n",
    "    half_window = (window_size -1) // 2\n",
    "    # precompute coefficients\n",
    "    b = np.mat([[k**i for i in order_range] for k in range(-half_window, half_window+1)])\n",
    "    m = np.linalg.pinv(b).A[deriv]\n",
    "    # pad the signal at the extremes with\n",
    "    # values taken from the signal itself\n",
    "    firstvals = y[0] - np.abs( y[1:half_window+1][::-1] - y[0] )\n",
    "    lastvals = y[-1] + np.abs(y[-half_window-1:-1][::-1] - y[-1])\n",
    "    y = np.concatenate((firstvals, y, lastvals))\n",
    "    return np.convolve( m, y, mode='valid')"
   ]
  },
  {
   "cell_type": "code",
   "execution_count": 14,
   "metadata": {
    "collapsed": false
   },
   "outputs": [],
   "source": [
    "smooth_accel = savitzky_golay( accel , 51, 2) # window size 51, polynomial order 3\n",
    "\n",
    "plt.plot( accel  )\n",
    "plt.plot( smooth_accel, 'r' , linewidth=3  )\n",
    "plt.show()"
   ]
  },
  {
   "cell_type": "code",
   "execution_count": 15,
   "metadata": {
    "collapsed": false,
    "scrolled": true
   },
   "outputs": [
    {
     "name": "stderr",
     "output_type": "stream",
     "text": [
      "/Library/Python/2.7/site-packages/IPython/kernel/__main__.py:8: RuntimeWarning: invalid value encountered in greater\n"
     ]
    }
   ],
   "source": [
    "local_max = argrelextrema(smooth_accel, np.greater)[0] # for local maxima\n",
    "local_min = argrelextrema(smooth_accel, np.less)[0] # for local minima\n",
    "\n",
    "prox_indx = np.where( local_min[1:]-local_min[:-1] > 10 )[0]\n",
    "prox_indx_valid = local_min[prox_indx]\n",
    "\n",
    "local_range = 20\n",
    "lmin_indx = np.where( smooth_accel[prox_indx_valid+local_range][:-local_range] - smooth_accel[prox_indx_valid][:-local_range]  > 0.1   )[0]\n",
    "lmin_indx_valid = prox_indx_valid[lmin_indx]\n",
    "\n",
    "plt.plot( smooth_accel, 'r' , linewidth=3  )\n",
    "plt.vlines(  lmin_indx_valid , np.zeros(len(lmin_indx_valid)) , np.ones(len(lmin_indx_valid))   )\n",
    "plt.show()"
   ]
  },
  {
   "cell_type": "code",
   "execution_count": 16,
   "metadata": {
    "collapsed": false
   },
   "outputs": [],
   "source": [
    "np.savetxt('lmin_indx_valid_Mouse12_120807.csv', lmin_indx_valid, delimiter=';')"
   ]
  },
  {
   "cell_type": "markdown",
   "metadata": {},
   "source": [
    "# Angles"
   ]
  },
  {
   "cell_type": "code",
   "execution_count": 36,
   "metadata": {
    "collapsed": true
   },
   "outputs": [],
   "source": [
    "angles = np.loadtxt('../data/AngFiles/Mouse12-120807.txt')"
   ]
  },
  {
   "cell_type": "code",
   "execution_count": 37,
   "metadata": {
    "collapsed": false
   },
   "outputs": [],
   "source": [
    "angles[angles==-1] = np.nan\n",
    "mask = np.isnan(angles)\n",
    "angles[mask] = np.interp(  np.flatnonzero(mask) , np.flatnonzero(~mask) , angles[~mask]   )"
   ]
  },
  {
   "cell_type": "code",
   "execution_count": 38,
   "metadata": {
    "collapsed": true
   },
   "outputs": [],
   "source": [
    "wind_b, wind_e = 5698.9,7778.8\n",
    "fr = 39.06\n",
    "wind_point_b,wind_point_e = int(wind_b*fr), int(wind_e*fr)"
   ]
  },
  {
   "cell_type": "code",
   "execution_count": 39,
   "metadata": {
    "collapsed": true
   },
   "outputs": [],
   "source": [
    "angles = angles[wind_point_b:wind_point_e]\n",
    "angles = np.unwrap(angles)"
   ]
  },
  {
   "cell_type": "code",
   "execution_count": 1,
   "metadata": {
    "collapsed": false
   },
   "outputs": [
    {
     "ename": "NameError",
     "evalue": "name 'np' is not defined",
     "output_type": "error",
     "traceback": [
      "\u001b[0;31m---------------------------------------------------------------------------\u001b[0m",
      "\u001b[0;31mNameError\u001b[0m                                 Traceback (most recent call last)",
      "\u001b[0;32m<ipython-input-1-421f15b10c4f>\u001b[0m in \u001b[0;36m<module>\u001b[0;34m()\u001b[0m\n\u001b[0;32m----> 1\u001b[0;31m \u001b[0mangles666\u001b[0m \u001b[0;34m=\u001b[0m \u001b[0mnp\u001b[0m\u001b[0;34m.\u001b[0m\u001b[0mabs\u001b[0m\u001b[0;34m(\u001b[0m \u001b[0mangles\u001b[0m\u001b[0;34m[\u001b[0m\u001b[0;36m30\u001b[0m\u001b[0;34m:\u001b[0m\u001b[0;34m]\u001b[0m \u001b[0;34m-\u001b[0m \u001b[0mangles\u001b[0m\u001b[0;34m[\u001b[0m\u001b[0;34m:\u001b[0m\u001b[0;34m-\u001b[0m\u001b[0;36m30\u001b[0m\u001b[0;34m]\u001b[0m \u001b[0;34m)\u001b[0m\u001b[0;34m\u001b[0m\u001b[0m\n\u001b[0m\u001b[1;32m      2\u001b[0m \u001b[0mplt\u001b[0m\u001b[0;34m.\u001b[0m\u001b[0mplot\u001b[0m\u001b[0;34m(\u001b[0m \u001b[0mangles666\u001b[0m \u001b[0;34m)\u001b[0m\u001b[0;34m\u001b[0m\u001b[0m\n\u001b[1;32m      3\u001b[0m \u001b[0mplt\u001b[0m\u001b[0;34m.\u001b[0m\u001b[0mshow\u001b[0m\u001b[0;34m(\u001b[0m\u001b[0;34m)\u001b[0m\u001b[0;34m\u001b[0m\u001b[0m\n",
      "\u001b[0;31mNameError\u001b[0m: name 'np' is not defined"
     ]
    }
   ],
   "source": [
    "angles666 = np.abs( angles[30:] - angles[:-30] )\n",
    "plt.plot( angles666 ) \n",
    "plt.show()"
   ]
  },
  {
   "cell_type": "code",
   "execution_count": 41,
   "metadata": {
    "collapsed": false
   },
   "outputs": [],
   "source": [
    "smooth_angle = savitzky_golay( angles666 , 201, 2) # window size 51, polynomial order 3"
   ]
  },
  {
   "cell_type": "code",
   "execution_count": 43,
   "metadata": {
    "collapsed": true
   },
   "outputs": [],
   "source": [
    "plt.plot(angles666)\n",
    "plt.plot(smooth_angle, 'r', linewidth=3)\n",
    "plt.show()"
   ]
  },
  {
   "cell_type": "code",
   "execution_count": 62,
   "metadata": {
    "collapsed": false
   },
   "outputs": [],
   "source": [
    "local_max = argrelextrema(smooth_angle, np.greater)[0] # for local maxima\n",
    "local_min = argrelextrema(smooth_angle, np.less)[0] # for local minima\n",
    "\n",
    "prox_indx = np.where( local_min[1:]-local_min[:-1] > 10 )[0]\n",
    "prox_indx_valid = local_min[prox_indx]\n",
    "\n",
    "local_range = 20\n",
    "lmin_indx = np.where( smooth_angle[prox_indx_valid+local_range][:-local_range] - smooth_angle[prox_indx_valid][:-local_range] > 0.15)[0]\n",
    "lmin_indx_valid = prox_indx_valid[lmin_indx]\n",
    "\n",
    "plt.plot( smooth_angle, 'r' , linewidth=3  )\n",
    "plt.vlines(  lmin_indx_valid , np.zeros(len(lmin_indx_valid)) , np.ones(len(lmin_indx_valid))   )\n",
    "plt.show()"
   ]
  },
  {
   "cell_type": "code",
   "execution_count": 59,
   "metadata": {
    "collapsed": true
   },
   "outputs": [],
   "source": [
    "np.savetxt('lmin_indx_valid_angle.csv', lmin_indx_valid, delimiter=';')"
   ]
  },
  {
   "cell_type": "markdown",
   "metadata": {
    "collapsed": true
   },
   "source": []
  }
 ],
 "metadata": {
  "kernelspec": {
   "display_name": "Python 2",
   "language": "python",
   "name": "python2"
  },
  "language_info": {
   "codemirror_mode": {
    "name": "ipython",
    "version": 2
   },
   "file_extension": ".py",
   "mimetype": "text/x-python",
   "name": "python",
   "nbconvert_exporter": "python",
   "pygments_lexer": "ipython2",
   "version": "2.7.6"
  }
 },
 "nbformat": 4,
 "nbformat_minor": 0
}
